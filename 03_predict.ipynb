{
 "cells": [
  {
   "cell_type": "code",
   "execution_count": 1,
   "metadata": {},
   "outputs": [],
   "source": [
    "from keras.models import load_model\n",
    "from sklearn.metrics import accuracy_score\n",
    "import numpy as np\n",
    "from os import listdir \n",
    "from os.path import isfile, join\n",
    "import cv2\n"
   ]
  },
  {
   "cell_type": "markdown",
   "metadata": {},
   "source": [
    "Load model"
   ]
  },
  {
   "cell_type": "code",
   "execution_count": 2,
   "metadata": {},
   "outputs": [],
   "source": [
    "model = load_model('my_model.hdf5')"
   ]
  },
  {
   "cell_type": "markdown",
   "metadata": {},
   "source": [
    "Find the test datasets"
   ]
  },
  {
   "cell_type": "code",
   "execution_count": 3,
   "metadata": {},
   "outputs": [
    {
     "name": "stdout",
     "output_type": "stream",
     "text": [
      "found 20000 files.\n",
      "folder: ['00', '01', '02', '03', '04', '05', '06', '07', '08', '09', '10', '11', '12', '13', '14', '15']\n"
     ]
    }
   ],
   "source": [
    "label_folder = []\n",
    "total_size = 0\n",
    "data_path = r\"C:\\Users\\ESA LAB\\Desktop\\Files\\course\\110-2\\AI\\03_final\\resize_test\"\n",
    "for root, dirts, files in os.walk(data_path): \n",
    "    for dirt in dirts:\n",
    "        label_folder.append(dirt)\n",
    "    \n",
    "    total_size += len(files)\n",
    "\n",
    "    \n",
    "print(\"found\",total_size,\"files.\")\n",
    "print(\"folder:\",label_folder)"
   ]
  },
  {
   "cell_type": "markdown",
   "metadata": {},
   "source": [
    "Load test datas"
   ]
  },
  {
   "cell_type": "code",
   "execution_count": 4,
   "metadata": {},
   "outputs": [
    {
     "name": "stdout",
     "output_type": "stream",
     "text": [
      "(20000, 256, 256, 3)\n"
     ]
    }
   ],
   "source": [
    "X_test = []\n",
    "total_file = []\n",
    "\n",
    "for i in range(len(label_folder)):\n",
    "    labelPath = data_path+r'\\\\'+label_folder[i]\n",
    "\n",
    "    FileName = [f for f in listdir(labelPath) if isfile(join(labelPath, f))]\n",
    "\n",
    "    for j in range(len(FileName)):\n",
    "        path = labelPath+r'\\\\'+FileName[j]\n",
    "        \n",
    "        #use cv2.imread read image.\n",
    "        img = cv2.imread(path,cv2.IMREAD_COLOR)\n",
    "        # img = img.astype('float')/255.0\n",
    "        X_test.append(img)\n",
    "        total_file.append(FileName[j])\n",
    "\n",
    "print(np.array(X_test).shape)"
   ]
  },
  {
   "cell_type": "markdown",
   "metadata": {},
   "source": [
    "Normalization"
   ]
  },
  {
   "cell_type": "code",
   "execution_count": 5,
   "metadata": {},
   "outputs": [],
   "source": [
    "X_test= np.array(X_test)\n",
    "X_test = X_test.astype('float16')/255.0"
   ]
  },
  {
   "cell_type": "markdown",
   "metadata": {},
   "source": [
    "Predict datas"
   ]
  },
  {
   "cell_type": "code",
   "execution_count": null,
   "metadata": {},
   "outputs": [],
   "source": [
    "prediction = model.predict(X_test)\n",
    "prediction = np.argmax(prediction, axis = 1)"
   ]
  },
  {
   "cell_type": "markdown",
   "metadata": {},
   "source": [
    "Change the predict answers into txt"
   ]
  },
  {
   "cell_type": "code",
   "execution_count": null,
   "metadata": {},
   "outputs": [],
   "source": [
    "last_answer = []\n",
    "\n",
    "for predict in prediction:\n",
    "    if predict == 0:\n",
    "        last_answer.append(\"banana\")\n",
    "    elif predict == 1:\n",
    "        last_answer.append(\"bareland\")\n",
    "    elif predict == 2:\n",
    "        last_answer.append(\"carrot\")\n",
    "    elif predict == 3:\n",
    "        last_answer.append(\"corn\")\n",
    "    elif predict == 4:\n",
    "        last_answer.append(\"dragonfruit\")\n",
    "    elif predict == 5:\n",
    "        last_answer.append(\"garlic\")\n",
    "    elif predict == 6:\n",
    "        last_answer.append(\"guava\")\n",
    "    elif predict == 7:\n",
    "        last_answer.append(\"peanut\")\n",
    "    elif predict == 8:\n",
    "        last_answer.append(\"pineapple\")\n",
    "    elif predict == 9:\n",
    "        last_answer.append(\"pumpkin\")\n",
    "    elif predict == 10:\n",
    "        last_answer.append(\"rice\")\n",
    "    elif predict == 11:\n",
    "        last_answer.append(\"soybean\")\n",
    "    elif predict == 12:\n",
    "        last_answer.append(\"sugarcane\")\n",
    "    elif predict == 13:\n",
    "        last_answer.append(\"tomato\")\n",
    "    "
   ]
  },
  {
   "cell_type": "code",
   "execution_count": null,
   "metadata": {},
   "outputs": [],
   "source": [
    "import pandas as pd"
   ]
  },
  {
   "cell_type": "markdown",
   "metadata": {},
   "source": [
    "Save the results into csv"
   ]
  },
  {
   "cell_type": "code",
   "execution_count": null,
   "metadata": {},
   "outputs": [],
   "source": [
    "tofile = pd.DataFrame(zip(total_file, last_answer), columns=['image_filename', 'label'])"
   ]
  },
  {
   "cell_type": "code",
   "execution_count": null,
   "metadata": {},
   "outputs": [],
   "source": [
    "tofile.to_csv(\"output.csv\", index=False)"
   ]
  }
 ],
 "metadata": {
  "interpreter": {
   "hash": "8986fb416174cc2474d1ce69838b7b56508ac61c47a66825c7584556038319d3"
  },
  "kernelspec": {
   "display_name": "Python 3.8.11 ('HighHeelWhatever')",
   "language": "python",
   "name": "python3"
  },
  "language_info": {
   "codemirror_mode": {
    "name": "ipython",
    "version": 3
   },
   "file_extension": ".py",
   "mimetype": "text/x-python",
   "name": "python",
   "nbconvert_exporter": "python",
   "pygments_lexer": "ipython3",
   "version": "3.8.11"
  },
  "orig_nbformat": 4
 },
 "nbformat": 4,
 "nbformat_minor": 2
}
