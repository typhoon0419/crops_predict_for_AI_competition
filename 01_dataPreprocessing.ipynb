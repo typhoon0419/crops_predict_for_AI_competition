{
 "cells": [
  {
   "cell_type": "code",
   "execution_count": 1,
   "metadata": {},
   "outputs": [
    {
     "name": "stdout",
     "output_type": "stream",
     "text": [
      "2.5.0\n",
      "2.5.0\n"
     ]
    }
   ],
   "source": [
    "import tensorflow as tf\n",
    "import tensorflow.keras as keras\n",
    "print(tf.__version__)\n",
    "print(keras.__version__)"
   ]
  },
  {
   "cell_type": "code",
   "execution_count": 2,
   "metadata": {},
   "outputs": [
    {
     "name": "stdout",
     "output_type": "stream",
     "text": [
      "Default GPU Device: /device:GPU:0\n"
     ]
    }
   ],
   "source": [
    "if tf.test.gpu_device_name(): \n",
    "\n",
    "    print('Default GPU Device: {}'.format(tf.test.gpu_device_name()))\n",
    "\n",
    "else:\n",
    "\n",
    "   print(\"Please install GPU version of TF\")"
   ]
  },
  {
   "cell_type": "code",
   "execution_count": 3,
   "metadata": {},
   "outputs": [],
   "source": [
    "import os\n",
    "from os import listdir \n",
    "from os.path import isfile, join\n",
    "import cv2\n",
    "\n",
    "import numpy as np\n",
    "import matplotlib.pyplot as plt"
   ]
  },
  {
   "cell_type": "markdown",
   "metadata": {},
   "source": [
    "#### Load data"
   ]
  },
  {
   "cell_type": "code",
   "execution_count": 57,
   "metadata": {},
   "outputs": [
    {
     "name": "stdout",
     "output_type": "stream",
     "text": [
      "found 80270 files.\n",
      "folder: ['banana', 'bareland', 'carrot', 'corn', 'dragonfruit', 'garlic', 'guava', 'inundated', 'peanut', 'pineapple', 'pumpkin', 'rice', 'soybean', 'sugarcane', 'tomato']\n"
     ]
    }
   ],
   "source": [
    "# Searching training data\n",
    "\n",
    "label_folder = []\n",
    "total_size = 0\n",
    "data_path = r\"C:\\Users\\ESA LAB\\Desktop\\Files\\course\\110-2\\AI\\03_final\\datasets\"\n",
    "\n",
    "#os.walk() generates the file names(dirpath, dirnames, filenames) \n",
    "#in a directory tree by walking the tree either top-down or bottom-up.\n",
    "for root, dirts, files in os.walk(data_path): \n",
    "    for dirt in dirts:\n",
    "        label_folder.append(dirt)\n",
    "    \n",
    "    total_size += len(files)\n",
    "\n",
    "    \n",
    "print(\"found\",total_size,\"files.\")\n",
    "print(\"folder:\",label_folder)"
   ]
  },
  {
   "cell_type": "code",
   "execution_count": 40,
   "metadata": {},
   "outputs": [],
   "source": [
    "# cut_shape = 512\n",
    "# reshape_folder = r\"C:\\Users\\ESA LAB\\Desktop\\Files\\course\\110-2\\AI\\03_final\\resize_datasets\"\n",
    "\n",
    "# for i in range(len(label_folder)):\n",
    "#     label_path = data_path + r\"\\\\\" + label_folder[i]\n",
    "#     reshape_folder = reshape_folder + r\"\\\\\" + label_folder[i]\n",
    "#     Filename = [f for f in listdir(label_path) if isfile(join(label_path, f))]\n",
    "\n",
    "#     for j in range (len(Filename)):\n",
    "#         path = label_path + r\"\\\\\" + Filename[j]\n",
    "\n",
    "#         img = cv2.imread(path, cv2.IMREAD_COLOR)\n",
    "#         img_width, img_hight = img.shape[0], img.shape[1]\n",
    "\n",
    "#         img = img[int(img_width/2-cut_shape/2):cut_shape, int(img_hight/2-cut_shape/2):cut_shape]\n",
    "        \n"
   ]
  },
  {
   "cell_type": "code",
   "execution_count": 59,
   "metadata": {},
   "outputs": [],
   "source": [
    "cut_shape = 256\n",
    "reshape_folder = r\"resize_datasets\"\n",
    "i=13\n",
    "# for i in range(len(label_folder)):\n",
    "label_path = data_path + r\"\\\\\" + label_folder[i]\n",
    "reshape_folder = reshape_folder + r\"\\\\\" + label_folder[i]\n",
    "Filename = [f for f in listdir(label_path) if isfile(join(label_path, f))]\n",
    "\n",
    "for j in range(len(Filename)):\n",
    "    read_path = label_path + r\"\\\\\" + Filename[j]\n",
    "    save_path = reshape_folder + r\"\\\\\" + Filename[j]\n",
    "\n",
    "    img = cv2.imread(read_path, cv2.IMREAD_COLOR)\n",
    "    img_hight, img_width = img.shape[0], int(img.shape[1]/2-img.shape[0]/2)\n",
    "\n",
    "    cutted = img[0:img_hight,\n",
    "                 img_width:(img_width+img_hight)]\n",
    "\n",
    "    cutted = cv2.resize(cutted, dsize=(256, 256),\n",
    "                        interpolation=cv2.INTER_CUBIC)\n",
    "\n",
    "    cv2.imwrite(save_path, cutted)\n"
   ]
  }
 ],
 "metadata": {
  "interpreter": {
   "hash": "8986fb416174cc2474d1ce69838b7b56508ac61c47a66825c7584556038319d3"
  },
  "kernelspec": {
   "display_name": "Python 3.8.11 ('HighHeelWhatever')",
   "language": "python",
   "name": "python3"
  },
  "language_info": {
   "codemirror_mode": {
    "name": "ipython",
    "version": 3
   },
   "file_extension": ".py",
   "mimetype": "text/x-python",
   "name": "python",
   "nbconvert_exporter": "python",
   "pygments_lexer": "ipython3",
   "version": "3.8.11"
  },
  "orig_nbformat": 4
 },
 "nbformat": 4,
 "nbformat_minor": 2
}
